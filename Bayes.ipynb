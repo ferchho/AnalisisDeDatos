{
 "cells": [
  {
   "cell_type": "code",
   "execution_count": 1,
   "id": "199f414f",
   "metadata": {},
   "outputs": [],
   "source": [
    "#Definir las probabilidades condicionales de los síntomas dados por COVID-19\n",
    "pFatiga = 0.92\n",
    "pTosSeca = 0.78\n",
    "pDificultadRespirar = 0.59\n",
    "pDolorGarganta = 0.61\n",
    "pDolorCabeza = 0.72\n",
    "pDolorCuerpo = 0.57\n",
    "pEscalofrios = 0.43\n",
    "pSecrecionNasal = 0.36\n",
    "pPerdidaSentido = 0.87\n",
    "pFiebre = 0.90\n",
    "pDolorPecho = 0.35\n",
    "\n",
    "#Definir la prevalencia de COVID-19 en la población\n",
    "p_covid = 0.05\n",
    "\n",
    "#Definir los síntomas observados en el paciente\n",
    "sintomas = ['Fatiga', 'Tos seca', 'Dificultad para respirar', 'Dolor de garganta', 'Dolor de cabeza',\n",
    "            'Dolor en el cuerpo', 'Escalofrios', 'Secreción nasal', '','','','','']"
   ]
  },
  {
   "cell_type": "code",
   "execution_count": null,
   "id": "d9dc0141",
   "metadata": {},
   "outputs": [],
   "source": []
  },
  {
   "cell_type": "code",
   "execution_count": null,
   "id": "445773b2",
   "metadata": {},
   "outputs": [],
   "source": []
  }
 ],
 "metadata": {
  "kernelspec": {
   "display_name": "Python 3 (ipykernel)",
   "language": "python",
   "name": "python3"
  },
  "language_info": {
   "codemirror_mode": {
    "name": "ipython",
    "version": 3
   },
   "file_extension": ".py",
   "mimetype": "text/x-python",
   "name": "python",
   "nbconvert_exporter": "python",
   "pygments_lexer": "ipython3",
   "version": "3.9.13"
  }
 },
 "nbformat": 4,
 "nbformat_minor": 5
}
